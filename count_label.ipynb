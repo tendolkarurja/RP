{
  "cells": [
    {
      "cell_type": "code",
      "execution_count": 22,
      "metadata": {
        "id": "IGJe2WZ5MwYL"
      },
      "outputs": [],
      "source": [
        "import librosa\n",
        "import numpy as np\n",
        "import os\n",
        "import skimage, cv2\n",
        "import matplotlib.pyplot as plt\n",
        "from scipy.signal import butter, sosfilt\n",
        "import skimage.filters\n",
        "import soundfile as sf\n",
        "from skimage.filters import frangi\n",
        "import pandas as pd\n",
        "from scipy.ndimage import label"
      ]
    },
    {
      "cell_type": "code",
      "execution_count": 42,
      "metadata": {
        "id": "8snN3Bh_7-sx"
      },
      "outputs": [],
      "source": [
        "def count_calls(spec_path, wave_path):\n",
        "    spec_img = cv2.imread(spec_path, cv2.IMREAD_GRAYSCALE)\n",
        "    if spec_img is None:\n",
        "        raise FileNotFoundError(f\"Could not load spectrogram image at {spec_path}\")\n",
        "    img_norm = spec_img / 255.0\n",
        "\n",
        "    # Horizontal edge detection (Sobel x)\n",
        "    edges = cv2.Sobel(img_norm, cv2.CV_64F, 1, 0, ksize=3)\n",
        "    edges = np.abs(edges)\n",
        "    edges = (edges > np.percentile(edges, 99)).astype(np.uint8)\n",
        "\n",
        "    # Morphological closing (connect broken ridges)\n",
        "    kernel = cv2.getStructuringElement(cv2.MORPH_RECT, (140, 120))\n",
        "    morphed = cv2.morphologyEx(edges, cv2.MORPH_CLOSE, kernel)\n",
        "\n",
        "    structure = np.ones((3, 3), dtype=int)\n",
        "    _, ridge_calls = label(morphed, structure=structure)\n",
        "\n",
        "    # --- Audio-based short-time energy detection ---\n",
        "    y, sr = librosa.load(wave_path, sr=None)\n",
        "\n",
        "    hop_length = 512\n",
        "    frame_length = 1024\n",
        "    energy = np.array([\n",
        "        np.sum(np.abs(y[j:j+frame_length]**2))\n",
        "        for j in range(0, len(y), hop_length)\n",
        "    ])\n",
        "    threshold = 0.02 * np.max(energy)\n",
        "    above_thresh = np.where(energy > threshold)[0]\n",
        "\n",
        "    energy_calls = 0\n",
        "    if len(above_thresh) > 0:\n",
        "        energy_calls = 1\n",
        "        for k in range(1, len(above_thresh)):\n",
        "            if above_thresh[k] - above_thresh[k-1] > 5:\n",
        "                energy_calls += 1\n",
        "\n",
        "    # --- Combine counts ---\n",
        "    final_count = (ridge_calls + energy_calls) // 2\n",
        "\n",
        "    return final_count"
      ]
    },
    {
      "cell_type": "code",
      "execution_count": 34,
      "metadata": {},
      "outputs": [],
      "source": [
        "df = pd.DataFrame(columns=[\"chunk_spectrogram\", \"call_counts\"])"
      ]
    },
    {
      "cell_type": "code",
      "execution_count": 43,
      "metadata": {},
      "outputs": [],
      "source": [
        "spectrograms = \"mel_spectrograms/\"\n",
        "i = 0\n",
        "for species_dir in os.listdir(spectrograms):  \n",
        "    species_path = os.path.join(spectrograms, species_dir)\n",
        "    \n",
        "    if not os.path.isdir(species_path):  # skip if not a folder\n",
        "        continue\n",
        "    \n",
        "    for file in os.listdir(species_path):\n",
        "        if file.endswith(\".png\"):\n",
        "            base = os.path.splitext(file)[0]\n",
        "            spec_path = os.path.join(species_path, file)\n",
        "            wav_path = os.path.join(species_path, base + \".wav\")\n",
        "\n",
        "            if not os.path.exists(wav_path):\n",
        "                print(f\"No wav found for {file}, skipping...\")\n",
        "                continue\n",
        "\n",
        "            try:\n",
        "                calls = count_calls(spec_path, wav_path)\n",
        "                df.loc[i] = [f'{base}.png', calls]\n",
        "                i += 1\n",
        "            except Exception as e:\n",
        "                print(f\"Error with {spec_path}: {e}\")\n",
        "                "
      ]
    },
    {
      "cell_type": "code",
      "execution_count": 26,
      "metadata": {},
      "outputs": [
        {
          "data": {
            "text/plain": [
              "(30015, 2)"
            ]
          },
          "execution_count": 26,
          "metadata": {},
          "output_type": "execute_result"
        }
      ],
      "source": [
        "df.shape"
      ]
    },
    {
      "cell_type": "code",
      "execution_count": 44,
      "metadata": {},
      "outputs": [],
      "source": [
        "df.to_csv(\"call_counts.csv\", index=False)"
      ]
    },
    {
      "cell_type": "code",
      "execution_count": 36,
      "metadata": {},
      "outputs": [
        {
          "data": {
            "text/plain": [
              "call_counts\n",
              "2    18538\n",
              "1    11388\n",
              "3       50\n",
              "4       31\n",
              "5        8\n",
              "Name: count, dtype: int64"
            ]
          },
          "execution_count": 36,
          "metadata": {},
          "output_type": "execute_result"
        }
      ],
      "source": [
        "df['call_counts'].value_counts()"
      ]
    },
    {
      "cell_type": "code",
      "execution_count": 21,
      "metadata": {},
      "outputs": [
        {
          "ename": "NameError",
          "evalue": "name 'call_counts' is not defined",
          "output_type": "error",
          "traceback": [
            "\u001b[31m---------------------------------------------------------------------------\u001b[39m",
            "\u001b[31mNameError\u001b[39m                                 Traceback (most recent call last)",
            "\u001b[36mCell\u001b[39m\u001b[36m \u001b[39m\u001b[32mIn[21]\u001b[39m\u001b[32m, line 1\u001b[39m\n\u001b[32m----> \u001b[39m\u001b[32m1\u001b[39m df[\u001b[43mcall_counts\u001b[49m].value_counts()\n",
            "\u001b[31mNameError\u001b[39m: name 'call_counts' is not defined"
          ]
        }
      ],
      "source": [
        "df[call_counts].value_counts()"
      ]
    },
    {
      "cell_type": "code",
      "execution_count": null,
      "metadata": {},
      "outputs": [],
      "source": []
    }
  ],
  "metadata": {
    "colab": {
      "private_outputs": true,
      "provenance": []
    },
    "kernelspec": {
      "display_name": "venv (3.12.3)",
      "language": "python",
      "name": "python3"
    },
    "language_info": {
      "codemirror_mode": {
        "name": "ipython",
        "version": 3
      },
      "file_extension": ".py",
      "mimetype": "text/x-python",
      "name": "python",
      "nbconvert_exporter": "python",
      "pygments_lexer": "ipython3",
      "version": "3.12.3"
    }
  },
  "nbformat": 4,
  "nbformat_minor": 0
}
